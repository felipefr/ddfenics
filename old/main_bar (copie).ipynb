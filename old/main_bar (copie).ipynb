{
 "cells": [
  {
   "cell_type": "markdown",
   "metadata": {},
   "source": [
    "0) **Imports**"
   ]
  },
  {
   "cell_type": "code",
   "execution_count": 1,
   "metadata": {},
   "outputs": [
    {
     "ename": "ModuleNotFoundError",
     "evalue": "No module named 'dolfin'",
     "output_type": "error",
     "traceback": [
      "\u001b[0;31m---------------------------------------------------------------------------\u001b[0m",
      "\u001b[0;31mModuleNotFoundError\u001b[0m                       Traceback (most recent call last)",
      "Input \u001b[0;32mIn [1]\u001b[0m, in \u001b[0;36m<cell line: 3>\u001b[0;34m()\u001b[0m\n\u001b[1;32m      1\u001b[0m \u001b[38;5;28;01mimport\u001b[39;00m \u001b[38;5;21;01mos\u001b[39;00m\u001b[38;5;241m,\u001b[39m \u001b[38;5;21;01msys\u001b[39;00m\n\u001b[1;32m      2\u001b[0m \u001b[38;5;28;01mfrom\u001b[39;00m \u001b[38;5;21;01mtimeit\u001b[39;00m \u001b[38;5;28;01mimport\u001b[39;00m default_timer \u001b[38;5;28;01mas\u001b[39;00m timer\n\u001b[0;32m----> 3\u001b[0m \u001b[38;5;28;01mimport\u001b[39;00m \u001b[38;5;21;01mdolfin\u001b[39;00m \u001b[38;5;28;01mas\u001b[39;00m \u001b[38;5;21;01mdf\u001b[39;00m \u001b[38;5;66;03m# Fenics : dolfin + ufl + FIAT + ...\u001b[39;00m\n\u001b[1;32m      4\u001b[0m \u001b[38;5;28;01mimport\u001b[39;00m \u001b[38;5;21;01mnumpy\u001b[39;00m \u001b[38;5;28;01mas\u001b[39;00m \u001b[38;5;21;01mnp\u001b[39;00m\n",
      "\u001b[0;31mModuleNotFoundError\u001b[0m: No module named 'dolfin'"
     ]
    }
   ],
   "source": [
    "import os, sys\n",
    "from timeit import default_timer as timer\n",
    "import dolfin as df # Fenics : dolfin + ufl + FIAT + ...\n",
    "import numpy as np\n",
    "\n",
    "# fetricks is a set of utilitary functions to facilitate our lives\n",
    "from fetricks.mechanics.elasticity_conversions import youngPoisson2lame\n",
    "from fetricks.fenics.la.wrapper_solvers import local_project_metadata, local_project"
   ]
  },
  {
   "cell_type": "markdown",
   "metadata": {},
   "source": [
    "1) **Consititutive behaviour Definition**"
   ]
  },
  {
   "cell_type": "code",
   "execution_count": 3,
   "metadata": {},
   "outputs": [
    {
     "ename": "NameError",
     "evalue": "name 'youngPoisson2lame' is not defined",
     "output_type": "error",
     "traceback": [
      "\u001b[0;31m---------------------------------------------------------------------------\u001b[0m",
      "\u001b[0;31mNameError\u001b[0m                                 Traceback (most recent call last)",
      "\u001b[0;32m/tmp/ipykernel_20893/3587062874.py\u001b[0m in \u001b[0;36m<module>\u001b[0;34m\u001b[0m\n\u001b[1;32m      1\u001b[0m metric = {'YOUNG_MODULUS': 100.0,\n\u001b[1;32m      2\u001b[0m            'POISSON_RATIO': 0.3}\n\u001b[0;32m----> 3\u001b[0;31m \u001b[0mlamb\u001b[0m\u001b[0;34m,\u001b[0m \u001b[0mmu\u001b[0m \u001b[0;34m=\u001b[0m \u001b[0myoungPoisson2lame\u001b[0m\u001b[0;34m(\u001b[0m\u001b[0mmetric\u001b[0m\u001b[0;34m[\u001b[0m\u001b[0;34m'POISSON_RATIO'\u001b[0m\u001b[0;34m]\u001b[0m\u001b[0;34m,\u001b[0m \u001b[0mmetric\u001b[0m\u001b[0;34m[\u001b[0m\u001b[0;34m'YOUNG_MODULUS'\u001b[0m\u001b[0;34m]\u001b[0m\u001b[0;34m)\u001b[0m\u001b[0;34m\u001b[0m\u001b[0;34m\u001b[0m\u001b[0m\n\u001b[0m\u001b[1;32m      4\u001b[0m \u001b[0;34m\u001b[0m\u001b[0m\n\u001b[1;32m      5\u001b[0m \u001b[0msigma_law\u001b[0m \u001b[0;34m=\u001b[0m \u001b[0;32mlambda\u001b[0m \u001b[0mu\u001b[0m\u001b[0;34m:\u001b[0m \u001b[0mlamb\u001b[0m\u001b[0;34m*\u001b[0m\u001b[0mdf\u001b[0m\u001b[0;34m.\u001b[0m\u001b[0mdiv\u001b[0m\u001b[0;34m(\u001b[0m\u001b[0mu\u001b[0m\u001b[0;34m)\u001b[0m\u001b[0;34m*\u001b[0m\u001b[0mdf\u001b[0m\u001b[0;34m.\u001b[0m\u001b[0mIdentity\u001b[0m\u001b[0;34m(\u001b[0m\u001b[0;36m2\u001b[0m\u001b[0;34m)\u001b[0m \u001b[0;34m+\u001b[0m \u001b[0mmu\u001b[0m\u001b[0;34m*\u001b[0m\u001b[0;34m(\u001b[0m\u001b[0mdf\u001b[0m\u001b[0;34m.\u001b[0m\u001b[0mgrad\u001b[0m\u001b[0;34m(\u001b[0m\u001b[0mu\u001b[0m\u001b[0;34m)\u001b[0m \u001b[0;34m+\u001b[0m \u001b[0mdf\u001b[0m\u001b[0;34m.\u001b[0m\u001b[0mgrad\u001b[0m\u001b[0;34m(\u001b[0m\u001b[0mu\u001b[0m\u001b[0;34m)\u001b[0m\u001b[0;34m.\u001b[0m\u001b[0mT\u001b[0m\u001b[0;34m)\u001b[0m\u001b[0;34m\u001b[0m\u001b[0;34m\u001b[0m\u001b[0m\n",
      "\u001b[0;31mNameError\u001b[0m: name 'youngPoisson2lame' is not defined"
     ]
    }
   ],
   "source": [
    "metric = {'YOUNG_MODULUS': 100.0,\n",
    "           'POISSON_RATIO': 0.3}\n",
    "lamb, mu = youngPoisson2lame(metric['POISSON_RATIO'], metric['YOUNG_MODULUS']) \n",
    "\n",
    "sigma_law = lambda u: lamb*df.div(u)*df.Identity(2) + mu*(df.grad(u) + df.grad(u).T)"
   ]
  },
  {
   "cell_type": "markdown",
   "metadata": {},
   "source": [
    "2) **Mesh**  "
   ]
  },
  {
   "cell_type": "code",
   "execution_count": null,
   "metadata": {},
   "outputs": [],
   "source": [
    "Nx =  100 # x10\n",
    "Ny =  30 # x10\n",
    "Lx = 2.0\n",
    "Ly = 0.5\n",
    "mesh = df.RectangleMesh(df.Point(0.0,0.0) , df.Point(Lx,Ly), Nx, Ny, 'left/right');\n",
    "df.plot(mesh);"
   ]
  },
  {
   "cell_type": "markdown",
   "metadata": {},
   "source": [
    "   "
   ]
  },
  {
   "cell_type": "markdown",
   "metadata": {},
   "source": [
    "3) **Mesh regions** "
   ]
  },
  {
   "cell_type": "code",
   "execution_count": null,
   "metadata": {},
   "outputs": [],
   "source": [
    "leftBnd = df.CompiledSubDomain('near(x[0], 0.0) && on_boundary')\n",
    "rightBnd = df.CompiledSubDomain('near(x[0], Lx) && on_boundary', Lx=Lx)\n",
    "\n",
    "clampedBndFlag = 1\n",
    "loadBndFlag = 2\n",
    "boundary_markers = df.MeshFunction(\"size_t\", mesh, dim=1, value=0)\n",
    "leftBnd.mark(boundary_markers, clampedBndFlag)\n",
    "rightBnd.mark(boundary_markers, loadBndFlag)\n",
    "\n",
    "dx = df.Measure('dx', domain=mesh)\n",
    "ds = df.Measure('ds', domain=mesh, subdomain_data=boundary_markers)"
   ]
  },
  {
   "cell_type": "markdown",
   "metadata": {},
   "source": [
    "4) **Spaces**"
   ]
  },
  {
   "cell_type": "code",
   "execution_count": null,
   "metadata": {},
   "outputs": [],
   "source": [
    "Uh = df.VectorFunctionSpace(mesh, \"CG\", 1) # Equivalent to CG\n",
    "bcL = df.DirichletBC(Uh, df.Constant((0.0, 0.0)), boundary_markers, clampedBndFlag)\n",
    "# bcL = df.DirichletBC(Uh.sub(0), df.Constant((0.0, 0.0)), boundary_markers, clampedBndFlag)"
   ]
  },
  {
   "cell_type": "markdown",
   "metadata": {},
   "source": [
    "5) **Variational Formulation**: <br>\n",
    "\n",
    "Strong format: \n",
    "$$\n",
    "\\begin{cases}\n",
    "div \\sigma = 0 \\quad \\text{in} \\, \\Omega \\\\\n",
    "u = 0 \\quad \\text{on} \\, \\Gamma_1 \\\\\n",
    "\\varepsilon = \\nabla^s u \\quad \\text{in} \\, \\Omega \\\\\n",
    "\\sigma  = \\hat{\\sigma}(\\varepsilon) \\quad \\text{in} \\, \\Omega \\\\\n",
    "\\sigma  n  = t \\quad \\text{on} \\, \\Gamma_2 \\\\\n",
    "\\end{cases}\n",
    "$$ \n",
    "\n",
    "Weak format: find $u \\in U = \\{ w \\in H^1(\\Omega) ; w|_{\\Gamma_1} = 0 \\}$ s.t.\n",
    "$$\n",
    "a(u, v) = b(v) \\quad \\forall v \\in U,\n",
    "$$\n",
    "with\n",
    "$$\n",
    "\\begin{cases}\n",
    "a(u, v) = \\int_{\\Omega} \\sigma(u) \\cdot \\nabla^s v \\, dx \\\\\n",
    "b(v) = \\int_{\\Gamma_2} t \\cdot v \\, ds \\\\\n",
    "\\end{cases}\n",
    "$$\n",
    "\n",
    "Galerkin method : find $u_h \\in U_h \\subset U$ s.t.\n",
    "$$\n",
    "a(u_h, v_h) = b(v_h) \\quad \\forall v_h \\in U_h,\n",
    "$$\n"
   ]
  },
  {
   "cell_type": "code",
   "execution_count": null,
   "metadata": {},
   "outputs": [],
   "source": [
    "ty = -0.1\n",
    "traction = df.Constant((0.0, ty))"
   ]
  },
  {
   "cell_type": "code",
   "execution_count": null,
   "metadata": {},
   "outputs": [],
   "source": [
    "u = df.TrialFunction(Uh) \n",
    "v = df.TestFunction(Uh)\n",
    "a = df.inner(sigma_law(u),  df.grad(v))*dx\n",
    "b = df.inner(traction,v)*ds(loadBndFlag)"
   ]
  },
  {
   "cell_type": "markdown",
   "metadata": {},
   "source": [
    "6) **Solving**"
   ]
  },
  {
   "cell_type": "code",
   "execution_count": null,
   "metadata": {},
   "outputs": [],
   "source": [
    "uh = df.Function(Uh)\n",
    "df.solve(a == b, uh, bcs = [bcL])\n",
    "print(\"Norm L2: \", df.assemble(df.inner(uh,uh)*dx))"
   ]
  },
  {
   "cell_type": "markdown",
   "metadata": {},
   "source": [
    "7) **Playing around**"
   ]
  },
  {
   "cell_type": "markdown",
   "metadata": {},
   "source": [
    "a) *Mandel's Notation*"
   ]
  },
  {
   "cell_type": "code",
   "execution_count": null,
   "metadata": {},
   "outputs": [],
   "source": [
    "Id_mandel_df = df.as_vector([1.0, 1.0, 0.0])\n",
    "halfsqrt2 = 0.5*np.sqrt(2)\n",
    "\n",
    "def tensor2mandel(X):\n",
    "    return df.as_vector([X[0,0], X[1,1], halfsqrt2*(X[0,1] + X[1,0])])\n",
    "\n",
    "def symgrad_mandel(v): # it was shown somehow to have better performance than doing it explicity\n",
    "    return tensor2mandel(df.sym(df.grad(v)))\n",
    "\n",
    "sigma_law = lambda w: lamb*df.div(w)*Id_mandel_df + 2*mu*symgrad_mandel(w)\n",
    "\n",
    "#Celas = df.as_tensor( [[lamb + 2*mu, lamb, 0], [lamb, lamb + 2*mu, 0], [0, 0, 2*mu]] )\n",
    "#sigma_law = lambda w: df.dot(Celas, symgrad_mandel(w))\n",
    "\n",
    "a = df.inner(sigma_law(u),  symgrad_mandel(v))*dx"
   ]
  },
  {
   "cell_type": "markdown",
   "metadata": {},
   "source": [
    "b) *Other solvers*; (Test : Comment assembling of Method 2 and Method 3) "
   ]
  },
  {
   "cell_type": "code",
   "execution_count": null,
   "metadata": {},
   "outputs": [],
   "source": [
    "# Method 1 : Direct, little lower-level\n",
    "uh = df.Function(Uh)\n",
    "problem = df.LinearVariationalProblem(a, b, uh, bcs = [bcL])\n",
    "\n",
    "start = timer()\n",
    "solver = df.LinearVariationalSolver(problem) # mumps, petsc, ...\n",
    "solver.parameters[\"linear_solver\"] = \"superlu\" # mumps, petsc,\n",
    "solver.solve()\n",
    "end = timer()\n",
    "                  \n",
    "print(\"Time spent: \", end - start)\n",
    "print(\"Norm L2: \", df.assemble(df.inner(uh,uh)*dx))\n",
    "\n",
    "\n",
    "# Method 2 : Iterative, low-level\n",
    "uh = df.Function(Uh)\n",
    "start = timer()\n",
    "A, F = df.assemble_system(a, b, bcs = [bcL])\n",
    "\n",
    "solver = df.PETScKrylovSolver('gmres','hypre_amg') \n",
    "solver.parameters[\"relative_tolerance\"] = 1e-5\n",
    "solver.parameters[\"absolute_tolerance\"] = 1e-6\n",
    "solver.parameters[\"error_on_nonconvergence\"] = False\n",
    "solver.parameters[\"maximum_iterations\"] = 1000\n",
    "solver.parameters[\"monitor_convergence\"] = True\n",
    "solver.set_operator(A)\n",
    "solver.solve(uh.vector(), F)   \n",
    "end = timer()\n",
    "\n",
    "\n",
    "print(\"Time spent: \", end - start)\n",
    "print(\"Norm L2: \", df.assemble(df.inner(uh,uh)*dx))\n",
    "\n",
    "# Method 3 : Direct, low-level \n",
    "uh = df.Function(Uh)\n",
    "F_ = df.PETScVector()\n",
    "A_ = df.PETScMatrix()\n",
    "solver_ = df.PETScLUSolver(A_)\n",
    "\n",
    "start = timer()\n",
    "df.assemble(a, tensor = A_) \n",
    "bcL.apply(A_)\n",
    "df.assemble(b, tensor = F_)\n",
    "bcL.apply(F_)\n",
    "\n",
    "solver_.solve(uh.vector(), F_)    \n",
    "end = timer()\n",
    "\n",
    "print(\"Time spent: \", end - start)\n",
    "print(\"Norm L2: \", df.assemble(df.inner(uh,uh)*dx))"
   ]
  },
  {
   "cell_type": "markdown",
   "metadata": {},
   "source": [
    "c) *Pos-Processing*"
   ]
  },
  {
   "cell_type": "code",
   "execution_count": null,
   "metadata": {},
   "outputs": [],
   "source": [
    "import fetricks.fenics.postprocessing.wrapper_io as iofe\n",
    "from fetricks.fenics.la.wrapper_solvers import local_project\n",
    "\n",
    "iofe.exportXDMF_gen(\"bar_vtk.xdmf\", fields={'vertex': [uh] })\n",
    "\n",
    "#os.system(\"paraview bar_vtk.xdmf\")"
   ]
  },
  {
   "cell_type": "markdown",
   "metadata": {},
   "source": [
    "d) *Nonlinear solver* <br> Let us suppose \n",
    "\\begin{align} \n",
    "\\min_{u \\in U} \\left ( J(u):=\\int_{\\Omega} \\psi(u) dx - \\Pi_{ext}(u) \\right) \\\\\n",
    "F(u; v) = \\delta J(u;v) = 0 \\quad \\forall v \\in V ,\n",
    "\\end{align} \n",
    "<br>\n",
    "with\n",
    "$$\n",
    "\\psi(\\varepsilon(u)) = \\frac{\\lambda}{2}\n",
    "( tr {\\varepsilon}^2 + \\frac{\\alpha}{2} tr {\\varepsilon}^4) + \n",
    "\\mu ( |\\varepsilon|^2  + \\frac{\\alpha}{2} |\\varepsilon|^4).\n",
    "$$"
   ]
  },
  {
   "cell_type": "code",
   "execution_count": null,
   "metadata": {},
   "outputs": [],
   "source": [
    "alpha = 10e4 # set to zero\n",
    "\n",
    "def psi_e(e):\n",
    "    tr_e = e[0] + e[1]\n",
    "    e2 = df.inner(e,e)\n",
    "    \n",
    "    return (0.5*lamb*(tr_e**2 + 0.5*alpha*tr_e**4) +\n",
    "           mu*(e2 + 0.5*alpha*e2**2))\n",
    "\n",
    "psi = lambda w: psi_e(symgrad_mandel(w))\n",
    "\n",
    "du = df.TrialFunction(Uh)            # Incremental displacement\n",
    "v  = df.TestFunction(Uh)             # Test function\n",
    "uh  = df.Function(Uh)                 # Displacement from previous iteration\n",
    "\n",
    "Pi = psi(uh)*dx - df.inner(traction,uh)*ds(loadBndFlag)\n",
    "\n",
    "F = df.derivative(Pi, uh, v)\n",
    "Jac = df.derivative(F, uh, du) # Optional\n",
    "\n",
    "# Compute solution\n",
    "start = timer()\n",
    "df.solve(F == 0, uh, bcL, J = Jac)\n",
    "end = timer()\n",
    "\n",
    "print(\"Time spent: \", end - start)\n",
    "print(\"Norm L2: \", df.assemble(df.inner(uh,uh)*dx))\n",
    "# Ref : 0.00046895042573293067"
   ]
  },
  {
   "cell_type": "code",
   "execution_count": null,
   "metadata": {},
   "outputs": [],
   "source": []
  },
  {
   "cell_type": "code",
   "execution_count": null,
   "metadata": {},
   "outputs": [],
   "source": [
    "def sigma_law(w):    \n",
    "    e = symgrad_mandel(w)\n",
    "    e = df.variable(e)\n",
    "    return df.diff(psi_e(e),e)\n",
    "\n",
    "# Alternative formulation: hand-coded\n",
    "def sigma_law_handcoded(w):\n",
    "    e = symgrad_mandel(w)\n",
    "    tr_e = e[0] + e[1]\n",
    "    e2 = df.inner(e,e)\n",
    "    \n",
    "    return lamb*(1 + alpha*tr_e**2)*tr_e*Id_mandel_df  + 2*mu*(1.0 + alpha*e2)*e\n",
    "\n"
   ]
  },
  {
   "cell_type": "markdown",
   "metadata": {},
   "source": [
    "e) Quadrature Spaces"
   ]
  },
  {
   "cell_type": "code",
   "execution_count": null,
   "metadata": {},
   "outputs": [],
   "source": [
    "import warnings\n",
    "from ffc.quadrature.deprecation import QuadratureRepresentationDeprecationWarning\n",
    "warnings.simplefilter(\"once\", QuadratureRepresentationDeprecationWarning)\n",
    "\n",
    "df.parameters[\"form_compiler\"][\"representation\"] = 'quadrature'\n",
    "# df.parameters[\"form_compiler\"][\"optimize\"] = True\n",
    "# df.parameters[\"form_compiler\"][\"cpp_optimize\"] = True\n",
    "# df.parameters[\"form_compiler\"][\"cpp_optimize_flags\"] = \"-O3\"\n",
    "\n",
    "# Degree of the stress : test for 0 and 1\n",
    "deg = 0\n",
    "\n",
    "Qe = df.VectorElement(\"Quadrature\", mesh.ufl_cell(), degree= deg + 1 , dim = 3, quad_scheme='default')\n",
    "sh0_Q = df.FunctionSpace(mesh, Qe ) # for stress\n",
    "\n",
    "sh0 = df.VectorFunctionSpace(mesh , 'DG', degree = deg, dim = 3)\n",
    "\n",
    "metadata = {\"quadrature_degree\": deg + 1, \"quadrature_scheme\": \"default\"}\n",
    "dxm = df.Measure( 'dx', mesh, metadata=metadata)\n",
    "\n",
    "start = timer()\n",
    "sigh_Q = local_project_metadata(sigma_law(uh), sh0_Q, metadata)\n",
    "end = timer()\n",
    "print(\"Time spent local project Quadrature: \", end - start)\n",
    "\n",
    "\n",
    "start = timer()\n",
    "sigh_ = local_project(sigma_law_handcoded(uh), sh0)\n",
    "# sigh_ = local_project(sigma_law(uh), sh0)\n",
    "end = timer()\n",
    "print(\"Time spent local project DG: \", end - start)\n",
    "\n",
    "\n",
    "print(\"norm (DG) : \" , np.linalg.norm(sigh_.vector().get_local()) )\n",
    "print(\"norm (Q) : \" , np.linalg.norm(sigh_Q.vector().get_local()) )\n",
    "print(\"error : \" , np.linalg.norm(sigh_Q.vector().get_local() - sigh_.vector().get_local()) )\n",
    "print(\"num cells: \", mesh.num_cells(), \"sh0 dim:\", sh0.dim(), \"sh0_Q dim:\", sh0_Q.dim())\n"
   ]
  },
  {
   "cell_type": "markdown",
   "metadata": {},
   "source": [
    "f) Export dataset"
   ]
  },
  {
   "cell_type": "code",
   "execution_count": null,
   "metadata": {},
   "outputs": [],
   "source": [
    "from ddfenics.dd.ddfunction import DDFunction\n",
    "epsh = DDFunction(sigh_.function_space())\n",
    "sigh = DDFunction(sigh_.function_space())\n",
    "\n",
    "sigh.update(sigh_)\n",
    "epsh.update(symgrad_mandel(uh))\n",
    "\n",
    "sigh.rename('sigma', '')\n",
    "uh.rename('u', '')\n",
    "\n",
    "print(np.min(epsh.data(), axis = 0))\n",
    "print(np.max(epsh.data(), axis = 0))\n",
    "\n",
    "data = np.concatenate((epsh.data(), sigh.data()), axis = 1)\n",
    "np.savetxt('database_ref.txt', data, header = '1.0 \\n%d 2 3 3'%data.shape[0], comments = '', fmt='%.8e', )"
   ]
  },
  {
   "cell_type": "code",
   "execution_count": null,
   "metadata": {},
   "outputs": [],
   "source": []
  }
 ],
 "metadata": {
  "kernelspec": {
   "display_name": "Python 3 (ipykernel)",
   "language": "python",
   "name": "python3"
  },
  "language_info": {
   "codemirror_mode": {
    "name": "ipython",
    "version": 3
   },
   "file_extension": ".py",
   "mimetype": "text/x-python",
   "name": "python",
   "nbconvert_exporter": "python",
   "pygments_lexer": "ipython3",
   "version": "3.8.13"
  }
 },
 "nbformat": 4,
 "nbformat_minor": 4
}
