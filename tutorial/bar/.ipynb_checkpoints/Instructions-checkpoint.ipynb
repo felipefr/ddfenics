{
 "cells": [
  {
   "cell_type": "markdown",
   "id": "eaecbab0",
   "metadata": {},
   "source": [
    "0) Indroduction <br>\n",
    "\n",
    "We're going to use: <br>\n",
    "- Miniconda: https://docs.conda.io/en/latest/miniconda.html\n",
    "- Fenics 2019.1.0 : https://fenicsproject.org/\n",
    "- Jupyter : https://jupyter.org/\n",
    "- Git"
   ]
  },
  {
   "cell_type": "markdown",
   "id": "b2d62251",
   "metadata": {},
   "source": [
    "1) Installation (Using Anaconda)"
   ]
  },
  {
   "cell_type": "code",
   "execution_count": null,
   "id": "3fbbba6a",
   "metadata": {},
   "outputs": [],
   "source": [
    "# Obs: default conda-forge installation is not working (I just discovered that python<3.9)\n",
    "conda create -n ddfenics_tutorial -c conda-forge/label/cf202003 fenics python=3.8.13 h5py scikit-optimize jupyterlab ipykernel\n",
    "conda activate ddfenics_tutorial\n",
    "\n",
    "python -m ipykernel install --user --name=ddfenics_tutorial\n",
    "\n",
    "# other libraries\n",
    "pip install gmsh==4.6.0 meshio==3.3.1 pygmsh==6.0.2\n",
    "\n",
    "# Extract ddfenics and fetricks folders  (to be furnished) or git clone https://github.com/felipefr/fetricks.git (for new releases)\n",
    "\n",
    "# create extrapythonfolders.pth listing folders to add on the python PATH (parent folder you extracted ddfenics and fetricks : e.g. /home/user/source/\n",
    "echo '/home/user/source/' > extra_python_folders.pth\n",
    "cp extra_python_folders.pth ./miniconda3/envs/ddfenics_tutorial/lib/python3.8/site-packages/extra_python_folders.pth\n",
    "\n",
    "# Notebook\n",
    "jupyter-lab"
   ]
  }
 ],
 "metadata": {
  "kernelspec": {
   "display_name": "tf_fenics",
   "language": "python",
   "name": "tf_fenics"
  },
  "language_info": {
   "codemirror_mode": {
    "name": "ipython",
    "version": 3
   },
   "file_extension": ".py",
   "mimetype": "text/x-python",
   "name": "python",
   "nbconvert_exporter": "python",
   "pygments_lexer": "ipython3",
   "version": "3.8.10"
  }
 },
 "nbformat": 4,
 "nbformat_minor": 5
}
