{
 "cells": [
  {
   "cell_type": "markdown",
   "metadata": {},
   "source": [
    "0) **Imports**"
   ]
  },
  {
   "cell_type": "code",
   "execution_count": 1,
   "metadata": {},
   "outputs": [
    {
     "name": "stderr",
     "output_type": "stream",
     "text": [
      "hwloc/linux: Ignoring PCI device with non-16bit domain.\n",
      "Pass --enable-32bits-pci-domain to configure to support such devices\n",
      "(warning: it would break the library ABI, don't enable unless really needed).\n"
     ]
    }
   ],
   "source": [
    "import os, sys\n",
    "from timeit import default_timer as timer\n",
    "import dolfin as df # Fenics : dolfin + ufl + FIAT + ...\n",
    "import numpy as np"
   ]
  },
  {
   "cell_type": "markdown",
   "metadata": {},
   "source": [
    "1) **Consititutive behaviour Definition**"
   ]
  },
  {
   "cell_type": "markdown",
   "metadata": {},
   "source": [
    "Strain Energy\n",
    "$$\n",
    "\\psi(\\varepsilon(u)) = \\frac{\\lambda}{2}\n",
    "( tr {\\varepsilon}^2 + \\frac{\\alpha}{2} tr {\\varepsilon}^4) + \n",
    "\\mu ( |\\varepsilon|^2  + \\frac{\\alpha}{2} |\\varepsilon|^4).\n",
    "$$"
   ]
  },
  {
   "cell_type": "code",
   "execution_count": 2,
   "metadata": {},
   "outputs": [],
   "source": [
    "# fetricks is a set of utilitary functions to facilitate our lives\n",
    "from fetricks.mechanics.elasticity_conversions import youngPoisson2lame\n",
    "nu = 0.3 \n",
    "E = 100.0 \n",
    "alpha = 0.0 # set to zero\n",
    "lamb, mu = youngPoisson2lame(nu, E)\n",
    "\n",
    "# alpha : Equivalent to sig = lamb*df.div(u)*df.Identity(2) + mu*(df.grad(u) + df.grad(u).T)\n",
    "def psi_e(e):\n",
    "    tr_e = df.tr(e)\n",
    "    e2 = df.inner(e,e)\n",
    "    \n",
    "    return (0.5*lamb*(tr_e**2 + 0.5*alpha*tr_e**4) +\n",
    "           mu*(e2 + 0.5*alpha*e2**2))\n",
    "\n",
    "psi = lambda w: psi_e(0.5*(df.grad(w) + df.grad(w).T))"
   ]
  },
  {
   "cell_type": "markdown",
   "metadata": {},
   "source": [
    "2) **Mesh**  "
   ]
  },
  {
   "cell_type": "code",
   "execution_count": 3,
   "metadata": {},
   "outputs": [
    {
     "data": {
      "image/png": "[encoded data removed]",
      "text/plain": [
       "<Figure size 640x480 with 1 Axes>"
      ]
     },
     "metadata": {},
     "output_type": "display_data"
    }
   ],
   "source": [
    "Nx =  10 # x10\n",
    "Ny =  3 # x10\n",
    "Lx = 2.0\n",
    "Ly = 0.5\n",
    "mesh = df.RectangleMesh(df.Point(0.0,0.0) , df.Point(Lx,Ly), Nx, Ny, 'left/right');\n",
    "df.plot(mesh);"
   ]
  },
  {
   "cell_type": "markdown",
   "metadata": {},
   "source": [
    "   "
   ]
  },
  {
   "cell_type": "markdown",
   "metadata": {},
   "source": [
    "3) **Mesh regions** "
   ]
  },
  {
   "cell_type": "code",
   "execution_count": 4,
   "metadata": {},
   "outputs": [],
   "source": [
    "leftBnd = df.CompiledSubDomain('near(x[0], 0.0) && on_boundary')\n",
    "rightBnd = df.CompiledSubDomain('near(x[0], Lx) && on_boundary', Lx=Lx)\n",
    "\n",
    "clampedBndFlag = 1\n",
    "loadBndFlag = 2\n",
    "boundary_markers = df.MeshFunction(\"size_t\", mesh, dim=1, value=0)\n",
    "leftBnd.mark(boundary_markers, clampedBndFlag)\n",
    "rightBnd.mark(boundary_markers, loadBndFlag)\n",
    "\n",
    "dx = df.Measure('dx', domain=mesh)\n",
    "ds = df.Measure('ds', domain=mesh, subdomain_data=boundary_markers)"
   ]
  },
  {
   "cell_type": "markdown",
   "metadata": {},
   "source": [
    "4) **Spaces**"
   ]
  },
  {
   "cell_type": "code",
   "execution_count": 5,
   "metadata": {},
   "outputs": [],
   "source": [
    "Uh = df.VectorFunctionSpace(mesh, \"CG\", 1) # Equivalent to CG\n",
    "bcL = df.DirichletBC(Uh, df.Constant((0.0, 0.0)), boundary_markers, clampedBndFlag)"
   ]
  },
  {
   "cell_type": "markdown",
   "metadata": {},
   "source": [
    "5. **Variational Formulation**: Minimisation \n",
    "\\begin{align} \n",
    "\\min_{u \\in U} \\left ( J(u):=\\int_{\\Omega} \\psi(u) dx - \\Pi_{ext}(u) \\right) \\\\\n",
    "F(u; v) = \\delta J(u;v) = 0 \\quad \\forall v \\in V , \\\\\n",
    "\\delta F(u, du; v) = \\delta^2 J(u, du;v) \\quad \\forall v \\in V ,\n",
    "\\end{align} \n",
    "<br>\n"
   ]
  },
  {
   "cell_type": "code",
   "execution_count": 6,
   "metadata": {},
   "outputs": [],
   "source": [
    "du = df.TrialFunction(Uh)            # Incremental displacement\n",
    "v  = df.TestFunction(Uh)             # Test function\n",
    "uh  = df.Function(Uh)                 # Displacement from previous iteration\n",
    "\n",
    "ty = -0.1\n",
    "traction = df.Constant((0.0, ty))\n",
    "\n",
    "P_ext = df.inner(traction,uh)*ds(loadBndFlag)\n",
    "P_int = psi(uh)*dx\n",
    "\n",
    "J = P_int - P_ext\n",
    "\n",
    "F = df.derivative(J, uh, v)\n",
    "DF = df.derivative(F, uh, du) # Optional\n"
   ]
  },
  {
   "cell_type": "markdown",
   "metadata": {},
   "source": [
    "6) **Solving**"
   ]
  },
  {
   "cell_type": "code",
   "execution_count": 8,
   "metadata": {},
   "outputs": [
    {
     "name": "stdout",
     "output_type": "stream",
     "text": [
      "Time spent:  0.012683311999353464\n",
      "Norm L2:  0.0020757559227364444\n",
      "Solving nonlinear variational problem.\n",
      "  Newton iteration 0: r (abs) = 2.635e-02 (tol = 1.000e-10) r (rel) = 1.000e+00 (tol = 1.000e-09)\n",
      "  Newton iteration 1: r (abs) = 1.259e-14 (tol = 1.000e-10) r (rel) = 4.776e-13 (tol = 1.000e-09)\n",
      "  Newton solver finished in 1 iterations and 1 linear solver iterations.\n"
     ]
    }
   ],
   "source": [
    "# Compute solution\n",
    "start = timer()\n",
    "df.solve(F == 0, uh, bcL, J = DF)\n",
    "end = timer()\n",
    "\n",
    "print(\"Time spent: \", end - start)\n",
    "print(\"Norm L2: \", df.assemble(df.inner(uh,uh)*dx))\n",
    "assert np.allclose(df.assemble(df.inner(uh,uh)*dx), 0.002075755922734824)"
   ]
  },
  {
   "cell_type": "markdown",
   "metadata": {},
   "source": [
    "7. **Pos-Processing**"
   ]
  },
  {
   "cell_type": "code",
   "execution_count": 9,
   "metadata": {},
   "outputs": [],
   "source": [
    "import fetricks.fenics.postprocessing.wrapper_io as iofe\n",
    "\n",
    "def sigma_law(w):    \n",
    "    e = 0.5*(df.grad(w) + df.grad(w).T) \n",
    "    e = df.variable(e)\n",
    "    return df.diff(psi_e(e),e)\n",
    "\n",
    "Sh = df.VectorFunctionSpace(mesh, \"DG\", 0, dim = 3) \n",
    "epsh = df.project( df.as_vector([uh[0].dx(0), uh[1].dx(1), np.sqrt(2)*uh[0].dx(1)]) , Sh)\n",
    "sig = sigma_law(uh)\n",
    "sigh = df.project( df.as_vector([sig[0,0], sig[1,1], np.sqrt(2)*sig[0,1]]), Sh)\n",
    "\n",
    "uh.rename(\"u\",'')\n",
    "epsh.rename(\"eps\",'')\n",
    "sigh.rename(\"sig\",'')\n",
    "\n",
    "iofe.exportXDMF_gen(\"bar_nonlinear_vtk.xdmf\", fields={'vertex': [uh], 'cell_vector': [epsh, sigh] })\n",
    "iofe.exportXDMF_checkpoint_gen(\"bar_nonlinear_sol.xdmf\", fields={'vertex': [uh], 'cell': [epsh, sigh]})"
   ]
  },
  {
   "cell_type": "markdown",
   "metadata": {},
   "source": [
    "8. **Checking**\n"
   ]
  },
  {
   "cell_type": "code",
   "execution_count": 2,
   "metadata": {},
   "outputs": [
    {
     "ename": "NameError",
     "evalue": "name 'Uh' is not defined",
     "output_type": "error",
     "traceback": [
      "\u001b[0;31m---------------------------------------------------------------------------\u001b[0m",
      "\u001b[0;31mNameError\u001b[0m                                 Traceback (most recent call last)",
      "Cell \u001b[0;32mIn [2], line 2\u001b[0m\n\u001b[1;32m      1\u001b[0m sol_ref_file \u001b[38;5;241m=\u001b[39m  df\u001b[38;5;241m.\u001b[39mXDMFFile(\u001b[38;5;124m\"\u001b[39m\u001b[38;5;124mbar_sol.xdmf\u001b[39m\u001b[38;5;124m\"\u001b[39m)\n\u001b[0;32m----> 2\u001b[0m u_ref \u001b[38;5;241m=\u001b[39m df\u001b[38;5;241m.\u001b[39mFunction(Uh)\n\u001b[1;32m      4\u001b[0m sig_ref \u001b[38;5;241m=\u001b[39m df\u001b[38;5;241m.\u001b[39mFunction(Sh)\n\u001b[1;32m      6\u001b[0m sol_ref_file\u001b[38;5;241m.\u001b[39mread_checkpoint(u_ref,\u001b[38;5;124m\"\u001b[39m\u001b[38;5;124mu\u001b[39m\u001b[38;5;124m\"\u001b[39m) \n",
      "\u001b[0;31mNameError\u001b[0m: name 'Uh' is not defined"
     ]
    }
   ],
   "source": [
    "sol_ref_file =  df.XDMFFile(\"bar_sol.xdmf\")\n",
    "u_ref = df.Function(Uh)\n",
    "\n",
    "sig_ref = df.Function(Sh)\n",
    "\n",
    "sol_ref_file.read_checkpoint(u_ref,\"u\") \n",
    "sol_ref_file.read_checkpoint(sig_ref,\"sig\")\n",
    "\n",
    "print('error L2 disp', df.assemble( df.inner(uh - u_ref, uh - u_ref)*dx) )\n",
    "print('error L2 sig', df.assemble( df.inner(sigh - sig_ref, sigh - sig_ref)*dx) )\n",
    "\n",
    "assert np.allclose(u_ref.vector().get_local()[:], uh.vector().get_local()[:]) \n",
    "assert np.allclose(sig_ref.vector().get_local()[:], sigh.vector().get_local()[:]) "
   ]
  },
  {
   "cell_type": "code",
   "execution_count": null,
   "metadata": {},
   "outputs": [],
   "source": []
  }
 ],
 "metadata": {
  "kernelspec": {
   "display_name": "ddfenics",
   "language": "python",
   "name": "ddfenics"
  },
  "language_info": {
   "codemirror_mode": {
    "name": "ipython",
    "version": 3
   },
   "file_extension": ".py",
   "mimetype": "text/x-python",
   "name": "python",
   "nbconvert_exporter": "python",
   "pygments_lexer": "ipython3",
   "version": "3.8.13"
  }
 },
 "nbformat": 4,
 "nbformat_minor": 4
}
